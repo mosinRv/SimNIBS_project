{
 "cells": [
  {
   "cell_type": "code",
   "execution_count": 14,
   "metadata": {},
   "outputs": [],
   "source": [
    "from simnibs import sim_struct, run_simnibs"
   ]
  },
  {
   "cell_type": "markdown",
   "metadata": {},
   "source": [
    "Параметры **pos_centre** и **pos_ydir** могут принимать значение как название точки, так и массив с координатами."
   ]
  },
  {
   "cell_type": "code",
   "execution_count": 15,
   "metadata": {},
   "outputs": [],
   "source": [
    "def simulation(fnamehead, pathfem, pos_centre='C5', pos_ydir='CP5', distance=4):\n",
    "    # Initalize a session\n",
    "    s = sim_struct.SESSION()\n",
    "    # Name of head mesh\n",
    "    s.fnamehead = fnamehead\n",
    "    # Output folder\n",
    "    s.pathfem = pathfem\n",
    "    \n",
    "    # Initialize a list of TMS simulations\n",
    "    tmslist = s.add_tmslist()\n",
    "    # Select coil\n",
    "    tmslist.fnamecoil = 'Magstim_70mm_Fig8.nii.gz'\n",
    "    \n",
    "    # Initialize a coil position\n",
    "    pos = tmslist.add_position()\n",
    "    pos.centre = pos_centre # Place the coil over\n",
    "    pos.pos_ydir = pos_ydir # Point the coil towards\n",
    "    pos.distance = distance # Distance between coil and head\n",
    "    run_simnibs(s)"
   ]
  },
  {
   "cell_type": "code",
   "execution_count": 16,
   "metadata": {},
   "outputs": [
    {
     "name": "stderr",
     "output_type": "stream",
     "text": [
      "[ simnibs ]INFO: Head Mesh: C:\\Users\\МосинРоманВасильевич\\Documents\\SimNIBS\\simnibs_examples\\ernie\\ernie.msh\n",
      "[ simnibs ]INFO: Subject Path: C:\\Users\\МосинРоманВасильевич\\Documents\\SimNIBS\\simnibs_examples\\ernie\\m2m_ernie\n",
      "[ simnibs ]INFO: Simulation Folder: C:\\Users\\МосинРоманВасильевич\\Documents\\SimNIBS\\Python\\tutorialDelMe2\n",
      "[ simnibs ]INFO: Running simulations in the directory: C:\\Users\\МосинРоманВасильевич\\Documents\\SimNIBS\\Python\\tutorialDelMe2\n",
      "[ simnibs ]INFO: Running Poslist Number: 1\n",
      "[ simnibs ]INFO: Began to run TMS simulations\n",
      "[ simnibs ]INFO: Coil file: C:\\Users\\0468~1\\AppData\\Local\\conda\\conda\\envs\\simnibs_env\\lib\\site-packages\\simnibs\\ccd-files\\Magstim_70mm_Fig8.nii.gz\n",
      "[ simnibs ]INFO: Using isotropic conductivities\n",
      "[ simnibs ]INFO: Calculating Coil position from (centre, pos_y, distance)\n",
      "[ simnibs ]INFO: Matsimnibs: \n",
      "[[ 3.6879e-01 -9.2888e-01 -3.4363e-02 -1.0893e+00]\n",
      " [-9.2877e-01 -3.6677e-01 -5.3462e-02 -1.5598e+01]\n",
      " [ 3.7056e-02  5.1632e-02 -9.9798e-01  1.1995e+02]\n",
      " [ 0.0000e+00  0.0000e+00  0.0000e+00  1.0000e+00]]\n",
      "[ simnibs ]INFO: Assembling FEM Matrx\n",
      "[ simnibs ]INFO: 13.89s to assemble FEM matrix\n",
      "[ simnibs ]INFO: Calculating dA/dt field\n",
      "[ simnibs ]INFO: Time to prepare KSP: 5.51s\n",
      "[ simnibs ]INFO: Running PETSc with KSP: cg PC: hypre\n",
      "[ simnibs ]INFO: Number of iterations: 37 Residual Norm: 9.47e-11\n",
      "[ simnibs ]INFO: KSP Converged with reason: 2\n",
      "[ simnibs ]INFO: Time to solve system: 30.36s\n",
      "[ simnibs ]INFO: Creating visualizations\n",
      "[ simnibs ]SUMMARY: \n",
      "ernie_TMS_1-0001_Magstim_70mm_Fig8_nii\n",
      "======================================\n",
      "Gray Matter\n",
      "\n",
      "Field Percentiles\n",
      "-----------------\n",
      "Top percentiles of the field (or field norm for vector fields)\n",
      "|Field |99.9%        |99.0%        |95.0%        |\n",
      "|------|-------------|-------------|-------------|\n",
      "|E     |1.27e+00 V/m |7.75e-01 V/m |4.72e-01 V/m |\n",
      "|normE |1.27e+00 V/m |7.75e-01 V/m |4.72e-01 V/m |\n",
      "\n",
      "Field Focality\n",
      "---------------\n",
      "Mesh volume or area with a field >= X% of the 99.9th percentile\n",
      "|Field |75.0%        |50.0%        |\n",
      "|------|-------------|-------------|\n",
      "|E     |3.62e+03 mm³ |1.47e+04 mm³ |\n",
      "|normE |3.62e+03 mm³ |1.47e+04 mm³ |\n",
      "\n",
      "--- Logging error ---\n",
      "Traceback (most recent call last):\n",
      "  File \"C:\\Users\\0468~1\\AppData\\Local\\conda\\conda\\envs\\simnibs_env\\lib\\logging\\__init__.py\", line 1028, in emit\n",
      "    stream.write(msg + self.terminator)\n",
      "  File \"C:\\Users\\0468~1\\AppData\\Local\\conda\\conda\\envs\\simnibs_env\\lib\\encodings\\cp1251.py\", line 19, in encode\n",
      "    return codecs.charmap_encode(input,self.errors,encoding_table)[0]\n",
      "UnicodeEncodeError: 'charmap' codec can't encode character '\\xb3' in position 662: character maps to <undefined>\n",
      "Call stack:\n",
      "  File \"C:\\Users\\0468~1\\AppData\\Local\\conda\\conda\\envs\\simnibs_env\\lib\\runpy.py\", line 193, in _run_module_as_main\n",
      "    \"__main__\", mod_spec)\n",
      "  File \"C:\\Users\\0468~1\\AppData\\Local\\conda\\conda\\envs\\simnibs_env\\lib\\runpy.py\", line 85, in _run_code\n",
      "    exec(code, run_globals)\n",
      "  File \"C:\\Users\\0468~1\\AppData\\Local\\conda\\conda\\envs\\simnibs_env\\lib\\site-packages\\ipykernel_launcher.py\", line 16, in <module>\n",
      "    app.launch_new_instance()\n",
      "  File \"C:\\Users\\0468~1\\AppData\\Local\\conda\\conda\\envs\\simnibs_env\\lib\\site-packages\\traitlets\\config\\application.py\", line 664, in launch_instance\n",
      "    app.start()\n",
      "  File \"C:\\Users\\0468~1\\AppData\\Local\\conda\\conda\\envs\\simnibs_env\\lib\\site-packages\\ipykernel\\kernelapp.py\", line 563, in start\n",
      "    self.io_loop.start()\n",
      "  File \"C:\\Users\\0468~1\\AppData\\Local\\conda\\conda\\envs\\simnibs_env\\lib\\site-packages\\tornado\\platform\\asyncio.py\", line 148, in start\n",
      "    self.asyncio_loop.run_forever()\n",
      "  File \"C:\\Users\\0468~1\\AppData\\Local\\conda\\conda\\envs\\simnibs_env\\lib\\asyncio\\base_events.py\", line 534, in run_forever\n",
      "    self._run_once()\n",
      "  File \"C:\\Users\\0468~1\\AppData\\Local\\conda\\conda\\envs\\simnibs_env\\lib\\asyncio\\base_events.py\", line 1771, in _run_once\n",
      "    handle._run()\n",
      "  File \"C:\\Users\\0468~1\\AppData\\Local\\conda\\conda\\envs\\simnibs_env\\lib\\asyncio\\events.py\", line 88, in _run\n",
      "    self._context.run(self._callback, *self._args)\n",
      "  File \"C:\\Users\\0468~1\\AppData\\Local\\conda\\conda\\envs\\simnibs_env\\lib\\site-packages\\tornado\\ioloop.py\", line 690, in <lambda>\n",
      "    lambda f: self._run_callback(functools.partial(callback, future))\n",
      "  File \"C:\\Users\\0468~1\\AppData\\Local\\conda\\conda\\envs\\simnibs_env\\lib\\site-packages\\tornado\\ioloop.py\", line 743, in _run_callback\n",
      "    ret = callback()\n",
      "  File \"C:\\Users\\0468~1\\AppData\\Local\\conda\\conda\\envs\\simnibs_env\\lib\\site-packages\\tornado\\gen.py\", line 787, in inner\n",
      "    self.run()\n",
      "  File \"C:\\Users\\0468~1\\AppData\\Local\\conda\\conda\\envs\\simnibs_env\\lib\\site-packages\\tornado\\gen.py\", line 748, in run\n",
      "    yielded = self.gen.send(value)\n",
      "  File \"C:\\Users\\0468~1\\AppData\\Local\\conda\\conda\\envs\\simnibs_env\\lib\\site-packages\\ipykernel\\kernelbase.py\", line 361, in process_one\n",
      "    yield gen.maybe_future(dispatch(*args))\n",
      "  File \"C:\\Users\\0468~1\\AppData\\Local\\conda\\conda\\envs\\simnibs_env\\lib\\site-packages\\tornado\\gen.py\", line 209, in wrapper\n",
      "    yielded = next(result)\n",
      "  File \"C:\\Users\\0468~1\\AppData\\Local\\conda\\conda\\envs\\simnibs_env\\lib\\site-packages\\ipykernel\\kernelbase.py\", line 268, in dispatch_shell\n",
      "    yield gen.maybe_future(handler(stream, idents, msg))\n",
      "  File \"C:\\Users\\0468~1\\AppData\\Local\\conda\\conda\\envs\\simnibs_env\\lib\\site-packages\\tornado\\gen.py\", line 209, in wrapper\n",
      "    yielded = next(result)\n",
      "  File \"C:\\Users\\0468~1\\AppData\\Local\\conda\\conda\\envs\\simnibs_env\\lib\\site-packages\\ipykernel\\kernelbase.py\", line 541, in execute_request\n",
      "    user_expressions, allow_stdin,\n",
      "  File \"C:\\Users\\0468~1\\AppData\\Local\\conda\\conda\\envs\\simnibs_env\\lib\\site-packages\\tornado\\gen.py\", line 209, in wrapper\n",
      "    yielded = next(result)\n",
      "  File \"C:\\Users\\0468~1\\AppData\\Local\\conda\\conda\\envs\\simnibs_env\\lib\\site-packages\\ipykernel\\ipkernel.py\", line 300, in do_execute\n",
      "    res = shell.run_cell(code, store_history=store_history, silent=silent)\n",
      "  File \"C:\\Users\\0468~1\\AppData\\Local\\conda\\conda\\envs\\simnibs_env\\lib\\site-packages\\ipykernel\\zmqshell.py\", line 536, in run_cell\n",
      "    return super(ZMQInteractiveShell, self).run_cell(*args, **kwargs)\n",
      "  File \"C:\\Users\\0468~1\\AppData\\Local\\conda\\conda\\envs\\simnibs_env\\lib\\site-packages\\IPython\\core\\interactiveshell.py\", line 2855, in run_cell\n",
      "    raw_cell, store_history, silent, shell_futures)\n",
      "  File \"C:\\Users\\0468~1\\AppData\\Local\\conda\\conda\\envs\\simnibs_env\\lib\\site-packages\\IPython\\core\\interactiveshell.py\", line 2881, in _run_cell\n",
      "    return runner(coro)\n",
      "  File \"C:\\Users\\0468~1\\AppData\\Local\\conda\\conda\\envs\\simnibs_env\\lib\\site-packages\\IPython\\core\\async_helpers.py\", line 68, in _pseudo_sync_runner\n",
      "    coro.send(None)\n",
      "  File \"C:\\Users\\0468~1\\AppData\\Local\\conda\\conda\\envs\\simnibs_env\\lib\\site-packages\\IPython\\core\\interactiveshell.py\", line 3058, in run_cell_async\n",
      "    interactivity=interactivity, compiler=compiler, result=result)\n",
      "  File \"C:\\Users\\0468~1\\AppData\\Local\\conda\\conda\\envs\\simnibs_env\\lib\\site-packages\\IPython\\core\\interactiveshell.py\", line 3249, in run_ast_nodes\n",
      "    if (await self.run_code(code, result,  async_=asy)):\n",
      "  File \"C:\\Users\\0468~1\\AppData\\Local\\conda\\conda\\envs\\simnibs_env\\lib\\site-packages\\IPython\\core\\interactiveshell.py\", line 3326, in run_code\n",
      "    exec(code_obj, self.user_global_ns, self.user_ns)\n",
      "  File \"<ipython-input-16-dea642674954>\", line 1, in <module>\n",
      "    simulation('../simnibs_examples/ernie/ernie.msh', 'tutorialDelMe2/',[-1.2, -15.8, 116.0])\n",
      "  File \"<ipython-input-15-3e6e98da33e3>\", line 19, in simulation\n",
      "    run_simnibs(s)\n",
      "  File \"C:\\Users\\0468~1\\AppData\\Local\\conda\\conda\\envs\\simnibs_env\\lib\\site-packages\\simnibs\\simulation\\run_simnibs.py\", line 26, in run_simnibs\n",
      "    out = p.run(cpus=cpus)\n",
      "  File \"C:\\Users\\0468~1\\AppData\\Local\\conda\\conda\\envs\\simnibs_env\\lib\\site-packages\\simnibs\\simulation\\sim_struct.py\", line 252, in run\n",
      "    fn = PL.run_simulation(simu_name, cpus=cpus, view=self.open_in_gmsh)\n",
      "  File \"C:\\Users\\0468~1\\AppData\\Local\\conda\\conda\\envs\\simnibs_env\\lib\\site-packages\\simnibs\\simulation\\sim_struct.py\", line 1103, in run_simulation\n",
      "    logger.log(25, summary)\n",
      "Message: '\\nernie_TMS_1-0001_Magstim_70mm_Fig8_nii\\n======================================\\nGray Matter\\n\\nField Percentiles\\n-----------------\\nTop percentiles of the field (or field norm for vector fields)\\n|Field |99.9%        |99.0%        |95.0%        |\\n|------|-------------|-------------|-------------|\\n|E     |1.27e+00 V/m |7.75e-01 V/m |4.72e-01 V/m |\\n|normE |1.27e+00 V/m |7.75e-01 V/m |4.72e-01 V/m |\\n\\nField Focality\\n---------------\\nMesh volume or area with a field >= X% of the 99.9th percentile\\n|Field |75.0%        |50.0%        |\\n|------|-------------|-------------|\\n|E     |3.62e+03 mm³ |1.47e+04 mm³ |\\n|normE |3.62e+03 mm³ |1.47e+04 mm³ |\\n'\n",
      "Arguments: ()\n",
      "--- Logging error ---\n",
      "Traceback (most recent call last):\n",
      "  File \"C:\\Users\\0468~1\\AppData\\Local\\conda\\conda\\envs\\simnibs_env\\lib\\logging\\__init__.py\", line 1028, in emit\n",
      "    stream.write(msg + self.terminator)\n",
      "  File \"C:\\Users\\0468~1\\AppData\\Local\\conda\\conda\\envs\\simnibs_env\\lib\\encodings\\cp1251.py\", line 19, in encode\n",
      "    return codecs.charmap_encode(input,self.errors,encoding_table)[0]\n",
      "UnicodeEncodeError: 'charmap' codec can't encode character '\\xb3' in position 602: character maps to <undefined>\n",
      "Call stack:\n",
      "  File \"C:\\Users\\0468~1\\AppData\\Local\\conda\\conda\\envs\\simnibs_env\\lib\\runpy.py\", line 193, in _run_module_as_main\n",
      "    \"__main__\", mod_spec)\n",
      "  File \"C:\\Users\\0468~1\\AppData\\Local\\conda\\conda\\envs\\simnibs_env\\lib\\runpy.py\", line 85, in _run_code\n",
      "    exec(code, run_globals)\n",
      "  File \"C:\\Users\\0468~1\\AppData\\Local\\conda\\conda\\envs\\simnibs_env\\lib\\site-packages\\ipykernel_launcher.py\", line 16, in <module>\n",
      "    app.launch_new_instance()\n",
      "  File \"C:\\Users\\0468~1\\AppData\\Local\\conda\\conda\\envs\\simnibs_env\\lib\\site-packages\\traitlets\\config\\application.py\", line 664, in launch_instance\n",
      "    app.start()\n",
      "  File \"C:\\Users\\0468~1\\AppData\\Local\\conda\\conda\\envs\\simnibs_env\\lib\\site-packages\\ipykernel\\kernelapp.py\", line 563, in start\n",
      "    self.io_loop.start()\n",
      "  File \"C:\\Users\\0468~1\\AppData\\Local\\conda\\conda\\envs\\simnibs_env\\lib\\site-packages\\tornado\\platform\\asyncio.py\", line 148, in start\n",
      "    self.asyncio_loop.run_forever()\n",
      "  File \"C:\\Users\\0468~1\\AppData\\Local\\conda\\conda\\envs\\simnibs_env\\lib\\asyncio\\base_events.py\", line 534, in run_forever\n",
      "    self._run_once()\n",
      "  File \"C:\\Users\\0468~1\\AppData\\Local\\conda\\conda\\envs\\simnibs_env\\lib\\asyncio\\base_events.py\", line 1771, in _run_once\n",
      "    handle._run()\n",
      "  File \"C:\\Users\\0468~1\\AppData\\Local\\conda\\conda\\envs\\simnibs_env\\lib\\asyncio\\events.py\", line 88, in _run\n",
      "    self._context.run(self._callback, *self._args)\n",
      "  File \"C:\\Users\\0468~1\\AppData\\Local\\conda\\conda\\envs\\simnibs_env\\lib\\site-packages\\tornado\\ioloop.py\", line 690, in <lambda>\n",
      "    lambda f: self._run_callback(functools.partial(callback, future))\n",
      "  File \"C:\\Users\\0468~1\\AppData\\Local\\conda\\conda\\envs\\simnibs_env\\lib\\site-packages\\tornado\\ioloop.py\", line 743, in _run_callback\n",
      "    ret = callback()\n",
      "  File \"C:\\Users\\0468~1\\AppData\\Local\\conda\\conda\\envs\\simnibs_env\\lib\\site-packages\\tornado\\gen.py\", line 787, in inner\n",
      "    self.run()\n",
      "  File \"C:\\Users\\0468~1\\AppData\\Local\\conda\\conda\\envs\\simnibs_env\\lib\\site-packages\\tornado\\gen.py\", line 748, in run\n",
      "    yielded = self.gen.send(value)\n",
      "  File \"C:\\Users\\0468~1\\AppData\\Local\\conda\\conda\\envs\\simnibs_env\\lib\\site-packages\\ipykernel\\kernelbase.py\", line 361, in process_one\n",
      "    yield gen.maybe_future(dispatch(*args))\n",
      "  File \"C:\\Users\\0468~1\\AppData\\Local\\conda\\conda\\envs\\simnibs_env\\lib\\site-packages\\tornado\\gen.py\", line 209, in wrapper\n",
      "    yielded = next(result)\n",
      "  File \"C:\\Users\\0468~1\\AppData\\Local\\conda\\conda\\envs\\simnibs_env\\lib\\site-packages\\ipykernel\\kernelbase.py\", line 268, in dispatch_shell\n",
      "    yield gen.maybe_future(handler(stream, idents, msg))\n",
      "  File \"C:\\Users\\0468~1\\AppData\\Local\\conda\\conda\\envs\\simnibs_env\\lib\\site-packages\\tornado\\gen.py\", line 209, in wrapper\n",
      "    yielded = next(result)\n",
      "  File \"C:\\Users\\0468~1\\AppData\\Local\\conda\\conda\\envs\\simnibs_env\\lib\\site-packages\\ipykernel\\kernelbase.py\", line 541, in execute_request\n",
      "    user_expressions, allow_stdin,\n",
      "  File \"C:\\Users\\0468~1\\AppData\\Local\\conda\\conda\\envs\\simnibs_env\\lib\\site-packages\\tornado\\gen.py\", line 209, in wrapper\n",
      "    yielded = next(result)\n",
      "  File \"C:\\Users\\0468~1\\AppData\\Local\\conda\\conda\\envs\\simnibs_env\\lib\\site-packages\\ipykernel\\ipkernel.py\", line 300, in do_execute\n",
      "    res = shell.run_cell(code, store_history=store_history, silent=silent)\n",
      "  File \"C:\\Users\\0468~1\\AppData\\Local\\conda\\conda\\envs\\simnibs_env\\lib\\site-packages\\ipykernel\\zmqshell.py\", line 536, in run_cell\n",
      "    return super(ZMQInteractiveShell, self).run_cell(*args, **kwargs)\n",
      "  File \"C:\\Users\\0468~1\\AppData\\Local\\conda\\conda\\envs\\simnibs_env\\lib\\site-packages\\IPython\\core\\interactiveshell.py\", line 2855, in run_cell\n",
      "    raw_cell, store_history, silent, shell_futures)\n",
      "  File \"C:\\Users\\0468~1\\AppData\\Local\\conda\\conda\\envs\\simnibs_env\\lib\\site-packages\\IPython\\core\\interactiveshell.py\", line 2881, in _run_cell\n",
      "    return runner(coro)\n",
      "  File \"C:\\Users\\0468~1\\AppData\\Local\\conda\\conda\\envs\\simnibs_env\\lib\\site-packages\\IPython\\core\\async_helpers.py\", line 68, in _pseudo_sync_runner\n",
      "    coro.send(None)\n",
      "  File \"C:\\Users\\0468~1\\AppData\\Local\\conda\\conda\\envs\\simnibs_env\\lib\\site-packages\\IPython\\core\\interactiveshell.py\", line 3058, in run_cell_async\n",
      "    interactivity=interactivity, compiler=compiler, result=result)\n",
      "  File \"C:\\Users\\0468~1\\AppData\\Local\\conda\\conda\\envs\\simnibs_env\\lib\\site-packages\\IPython\\core\\interactiveshell.py\", line 3249, in run_ast_nodes\n",
      "    if (await self.run_code(code, result,  async_=asy)):\n",
      "  File \"C:\\Users\\0468~1\\AppData\\Local\\conda\\conda\\envs\\simnibs_env\\lib\\site-packages\\IPython\\core\\interactiveshell.py\", line 3326, in run_code\n",
      "    exec(code_obj, self.user_global_ns, self.user_ns)\n",
      "  File \"<ipython-input-16-dea642674954>\", line 1, in <module>\n",
      "    simulation('../simnibs_examples/ernie/ernie.msh', 'tutorialDelMe2/',[-1.2, -15.8, 116.0])\n",
      "  File \"<ipython-input-15-3e6e98da33e3>\", line 19, in simulation\n",
      "    run_simnibs(s)\n",
      "  File \"C:\\Users\\0468~1\\AppData\\Local\\conda\\conda\\envs\\simnibs_env\\lib\\site-packages\\simnibs\\simulation\\run_simnibs.py\", line 26, in run_simnibs\n",
      "    out = p.run(cpus=cpus)\n",
      "  File \"C:\\Users\\0468~1\\AppData\\Local\\conda\\conda\\envs\\simnibs_env\\lib\\site-packages\\simnibs\\simulation\\sim_struct.py\", line 252, in run\n",
      "    fn = PL.run_simulation(simu_name, cpus=cpus, view=self.open_in_gmsh)\n",
      "  File \"C:\\Users\\0468~1\\AppData\\Local\\conda\\conda\\envs\\simnibs_env\\lib\\site-packages\\simnibs\\simulation\\sim_struct.py\", line 1103, in run_simulation\n",
      "    logger.log(25, summary)\n",
      "Message: '\\nernie_TMS_1-0001_Magstim_70mm_Fig8_nii\\n======================================\\nGray Matter\\n\\nField Percentiles\\n-----------------\\nTop percentiles of the field (or field norm for vector fields)\\n|Field |99.9%        |99.0%        |95.0%        |\\n|------|-------------|-------------|-------------|\\n|E     |1.27e+00 V/m |7.75e-01 V/m |4.72e-01 V/m |\\n|normE |1.27e+00 V/m |7.75e-01 V/m |4.72e-01 V/m |\\n\\nField Focality\\n---------------\\nMesh volume or area with a field >= X% of the 99.9th percentile\\n|Field |75.0%        |50.0%        |\\n|------|-------------|-------------|\\n|E     |3.62e+03 mm³ |1.47e+04 mm³ |\\n|normE |3.62e+03 mm³ |1.47e+04 mm³ |\\n'\n",
      "Arguments: ()\n",
      "[ simnibs ]INFO: Finished Running Poslist Number: 1\n"
     ]
    },
    {
     "name": "stderr",
     "output_type": "stream",
     "text": [
      "[ simnibs ]INFO: Result Files:\n",
      "C:\\Users\\МосинРоманВасильевич\\Documents\\SimNIBS\\Python\\tutorialDelMe2\\ernie_TMS_1-0001_Magstim_70mm_Fig8_nii_scalar.msh\n",
      "[ simnibs ]INFO: =====================================\n",
      "[ simnibs ]INFO: SimNIBS finished running simulations\n",
      "[ simnibs ]INFO: Simulation Result Meshes:\n",
      "[ simnibs ]INFO: C:\\Users\\МосинРоманВасильевич\\Documents\\SimNIBS\\Python\\tutorialDelMe2\\ernie_TMS_1-0001_Magstim_70mm_Fig8_nii_scalar.msh\n",
      "[ simnibs ]INFO: =====================================\n",
      "Exception in thread Thread-6:\n",
      "Traceback (most recent call last):\n",
      "  File \"C:\\Users\\0468~1\\AppData\\Local\\conda\\conda\\envs\\simnibs_env\\lib\\threading.py\", line 926, in _bootstrap_inner\n",
      "    self.run()\n",
      "  File \"C:\\Users\\0468~1\\AppData\\Local\\conda\\conda\\envs\\simnibs_env\\lib\\threading.py\", line 870, in run\n",
      "    self._target(*self._args, **self._kwargs)\n",
      "  File \"C:\\Users\\0468~1\\AppData\\Local\\conda\\conda\\envs\\simnibs_env\\lib\\subprocess.py\", line 512, in run\n",
      "    output=stdout, stderr=stderr)\n",
      "subprocess.CalledProcessError: Command '['C:\\\\Users\\\\0468~1\\\\AppData\\\\Local\\\\conda\\\\conda\\\\envs\\\\simnibs_env\\\\lib\\\\site-packages\\\\simnibs\\\\bin\\\\win\\\\gmsh', 'C:\\\\Users\\\\МосинРоманВасильевич\\\\Documents\\\\SimNIBS\\\\Python\\\\tutorialDelMe2\\\\ernie_TMS_1-0001_Magstim_70mm_Fig8_nii_scalar.msh']' returned non-zero exit status 1.\n",
      "\n"
     ]
    }
   ],
   "source": [
    "simulation('../simnibs_examples/ernie/ernie.msh', '../simnibs_examples/tutorialDelMe2/',[-1.2, -15.8, 116.0])"
   ]
  },
  {
   "cell_type": "markdown",
   "metadata": {},
   "source": [
    "\n",
    "=======================================================================================================================\n"
   ]
  },
  {
   "cell_type": "code",
   "execution_count": 3,
   "metadata": {},
   "outputs": [],
   "source": [
    "from simnibs.msh.headreco import headmodel"
   ]
  },
  {
   "cell_type": "markdown",
   "metadata": {},
   "source": [
    "Ниже происходит аналог выполнения команды **\"headreco all ernie org/ernie_T1.nii.gz\"** в консоли windows.\n",
    "Но нужно еще разобраться до конца. "
   ]
  },
  {
   "cell_type": "code",
   "execution_count": 15,
   "metadata": {},
   "outputs": [
    {
     "name": "stderr",
     "output_type": "stream",
     "text": [
      "========================================================================\n",
      "========================================================================\n",
      "========================================================================\n",
      "PREPARING VOLUMES FOR MESHING\n",
      "PREPARING VOLUMES FOR MESHING\n",
      "PREPARING VOLUMES FOR MESHING\n",
      "========================================================================\n",
      "========================================================================\n",
      "========================================================================\n",
      "Copying input files to m2m_ernie_JN2\n",
      "Copying input files to m2m_ernie_JN2\n",
      "Copying input files to m2m_ernie_JN2\n"
     ]
    },
    {
     "name": "stdout",
     "output_type": "stream",
     "text": [
      "\n",
      "\n",
      "\n"
     ]
    },
    {
     "name": "stderr",
     "output_type": "stream",
     "text": [
      "Copying T1fs.nii.gz to T1fs_conform.nii.gz\n",
      "Copying T1fs.nii.gz to T1fs_conform.nii.gz\n",
      "Copying T1fs.nii.gz to T1fs_conform.nii.gz\n",
      "Preparing to segment\n",
      "Preparing to segment\n",
      "Preparing to segment\n",
      "Starting MATLAB\n",
      "Starting MATLAB\n",
      "Starting MATLAB\n",
      "========================================================================\n",
      "========================================================================\n",
      "========================================================================\n"
     ]
    },
    {
     "name": "stdout",
     "output_type": "stream",
     "text": [
      "\n"
     ]
    },
    {
     "name": "stderr",
     "output_type": "stream",
     "text": [
      "Binarizing tissue probability maps\n",
      "Binarizing tissue probability maps\n",
      "Binarizing tissue probability maps\n"
     ]
    },
    {
     "ename": "KeyboardInterrupt",
     "evalue": "",
     "output_type": "error",
     "traceback": [
      "\u001b[1;31m---------------------------------------------------------------------------\u001b[0m",
      "\u001b[1;31mKeyboardInterrupt\u001b[0m                         Traceback (most recent call last)",
      "\u001b[1;32m<ipython-input-15-3c4e6b2a31db>\u001b[0m in \u001b[0;36m<module>\u001b[1;34m\u001b[0m\n\u001b[1;32m----> 1\u001b[1;33m \u001b[0mheadmodel\u001b[0m\u001b[1;33m(\u001b[0m\u001b[1;33m[\u001b[0m\u001b[1;34m'C:/Users/МосинРоманВасильевич/Documents/SimNIBS/simnibs_examples/ernie'\u001b[0m\u001b[1;33m,\u001b[0m\u001b[1;34m'all'\u001b[0m\u001b[1;33m,\u001b[0m \u001b[1;34m'ernie_JN2'\u001b[0m\u001b[1;33m,\u001b[0m \u001b[1;34m'C:/Users/МосинРоманВасильевич/Documents/SimNIBS/simnibs_examples/ernie/org/ernie_T1.nii.gz'\u001b[0m\u001b[1;33m]\u001b[0m\u001b[1;33m)\u001b[0m\u001b[1;33m\u001b[0m\u001b[1;33m\u001b[0m\u001b[0m\n\u001b[0m",
      "\u001b[1;32mC:\\Users\\0468~1\\AppData\\Local\\conda\\conda\\envs\\simnibs_env\\lib\\site-packages\\simnibs\\msh\\headreco.py\u001b[0m in \u001b[0;36mheadmodel\u001b[1;34m(argv)\u001b[0m\n\u001b[0;32m    265\u001b[0m             raise OSError('Could not find tissue probability maps.\\n'\n\u001b[0;32m    266\u001b[0m                            'Probably something went wrong with the Matlab call or SPM')\n\u001b[1;32m--> 267\u001b[1;33m         \u001b[0mmasks\u001b[0m \u001b[1;33m=\u001b[0m \u001b[0mhmu\u001b[0m\u001b[1;33m.\u001b[0m\u001b[0mbinarize\u001b[0m\u001b[1;33m(\u001b[0m\u001b[1;33m[\u001b[0m\u001b[0mnib\u001b[0m\u001b[1;33m.\u001b[0m\u001b[0mload\u001b[0m\u001b[1;33m(\u001b[0m\u001b[0mv\u001b[0m\u001b[1;33m)\u001b[0m\u001b[1;33m.\u001b[0m\u001b[0mget_data\u001b[0m\u001b[1;33m(\u001b[0m\u001b[1;33m)\u001b[0m \u001b[1;32mfor\u001b[0m \u001b[0mv\u001b[0m \u001b[1;32min\u001b[0m \u001b[0mfspm\u001b[0m\u001b[1;33m]\u001b[0m\u001b[1;33m)\u001b[0m\u001b[1;33m\u001b[0m\u001b[1;33m\u001b[0m\u001b[0m\n\u001b[0m\u001b[0;32m    268\u001b[0m \u001b[1;33m\u001b[0m\u001b[0m\n\u001b[0;32m    269\u001b[0m         \u001b[0mM\u001b[0m \u001b[1;33m=\u001b[0m \u001b[0mnib\u001b[0m\u001b[1;33m.\u001b[0m\u001b[0mload\u001b[0m\u001b[1;33m(\u001b[0m\u001b[0mfspm\u001b[0m\u001b[1;33m[\u001b[0m\u001b[1;36m0\u001b[0m\u001b[1;33m]\u001b[0m\u001b[1;33m)\u001b[0m\u001b[1;33m\u001b[0m\u001b[1;33m\u001b[0m\u001b[0m\n",
      "\u001b[1;32mC:\\Users\\0468~1\\AppData\\Local\\conda\\conda\\envs\\simnibs_env\\lib\\site-packages\\simnibs\\msh\\headreco.py\u001b[0m in \u001b[0;36m<listcomp>\u001b[1;34m(.0)\u001b[0m\n\u001b[0;32m    265\u001b[0m             raise OSError('Could not find tissue probability maps.\\n'\n\u001b[0;32m    266\u001b[0m                            'Probably something went wrong with the Matlab call or SPM')\n\u001b[1;32m--> 267\u001b[1;33m         \u001b[0mmasks\u001b[0m \u001b[1;33m=\u001b[0m \u001b[0mhmu\u001b[0m\u001b[1;33m.\u001b[0m\u001b[0mbinarize\u001b[0m\u001b[1;33m(\u001b[0m\u001b[1;33m[\u001b[0m\u001b[0mnib\u001b[0m\u001b[1;33m.\u001b[0m\u001b[0mload\u001b[0m\u001b[1;33m(\u001b[0m\u001b[0mv\u001b[0m\u001b[1;33m)\u001b[0m\u001b[1;33m.\u001b[0m\u001b[0mget_data\u001b[0m\u001b[1;33m(\u001b[0m\u001b[1;33m)\u001b[0m \u001b[1;32mfor\u001b[0m \u001b[0mv\u001b[0m \u001b[1;32min\u001b[0m \u001b[0mfspm\u001b[0m\u001b[1;33m]\u001b[0m\u001b[1;33m)\u001b[0m\u001b[1;33m\u001b[0m\u001b[1;33m\u001b[0m\u001b[0m\n\u001b[0m\u001b[0;32m    268\u001b[0m \u001b[1;33m\u001b[0m\u001b[0m\n\u001b[0;32m    269\u001b[0m         \u001b[0mM\u001b[0m \u001b[1;33m=\u001b[0m \u001b[0mnib\u001b[0m\u001b[1;33m.\u001b[0m\u001b[0mload\u001b[0m\u001b[1;33m(\u001b[0m\u001b[0mfspm\u001b[0m\u001b[1;33m[\u001b[0m\u001b[1;36m0\u001b[0m\u001b[1;33m]\u001b[0m\u001b[1;33m)\u001b[0m\u001b[1;33m\u001b[0m\u001b[1;33m\u001b[0m\u001b[0m\n",
      "\u001b[1;32mC:\\Users\\0468~1\\AppData\\Local\\conda\\conda\\envs\\simnibs_env\\lib\\site-packages\\nibabel\\dataobj_images.py\u001b[0m in \u001b[0;36mget_data\u001b[1;34m(self, caching)\u001b[0m\n\u001b[0;32m    200\u001b[0m         \u001b[1;32mif\u001b[0m \u001b[0mself\u001b[0m\u001b[1;33m.\u001b[0m\u001b[0m_data_cache\u001b[0m \u001b[1;32mis\u001b[0m \u001b[1;32mnot\u001b[0m \u001b[1;32mNone\u001b[0m\u001b[1;33m:\u001b[0m\u001b[1;33m\u001b[0m\u001b[1;33m\u001b[0m\u001b[0m\n\u001b[0;32m    201\u001b[0m             \u001b[1;32mreturn\u001b[0m \u001b[0mself\u001b[0m\u001b[1;33m.\u001b[0m\u001b[0m_data_cache\u001b[0m\u001b[1;33m\u001b[0m\u001b[1;33m\u001b[0m\u001b[0m\n\u001b[1;32m--> 202\u001b[1;33m         \u001b[0mdata\u001b[0m \u001b[1;33m=\u001b[0m \u001b[0mnp\u001b[0m\u001b[1;33m.\u001b[0m\u001b[0masanyarray\u001b[0m\u001b[1;33m(\u001b[0m\u001b[0mself\u001b[0m\u001b[1;33m.\u001b[0m\u001b[0m_dataobj\u001b[0m\u001b[1;33m)\u001b[0m\u001b[1;33m\u001b[0m\u001b[1;33m\u001b[0m\u001b[0m\n\u001b[0m\u001b[0;32m    203\u001b[0m         \u001b[1;32mif\u001b[0m \u001b[0mcaching\u001b[0m \u001b[1;33m==\u001b[0m \u001b[1;34m'fill'\u001b[0m\u001b[1;33m:\u001b[0m\u001b[1;33m\u001b[0m\u001b[1;33m\u001b[0m\u001b[0m\n\u001b[0;32m    204\u001b[0m             \u001b[0mself\u001b[0m\u001b[1;33m.\u001b[0m\u001b[0m_data_cache\u001b[0m \u001b[1;33m=\u001b[0m \u001b[0mdata\u001b[0m\u001b[1;33m\u001b[0m\u001b[1;33m\u001b[0m\u001b[0m\n",
      "\u001b[1;32mC:\\Users\\0468~1\\AppData\\Local\\conda\\conda\\envs\\simnibs_env\\lib\\site-packages\\numpy\\core\\numeric.py\u001b[0m in \u001b[0;36masanyarray\u001b[1;34m(a, dtype, order)\u001b[0m\n\u001b[0;32m    589\u001b[0m \u001b[1;33m\u001b[0m\u001b[0m\n\u001b[0;32m    590\u001b[0m     \"\"\"\n\u001b[1;32m--> 591\u001b[1;33m     \u001b[1;32mreturn\u001b[0m \u001b[0marray\u001b[0m\u001b[1;33m(\u001b[0m\u001b[0ma\u001b[0m\u001b[1;33m,\u001b[0m \u001b[0mdtype\u001b[0m\u001b[1;33m,\u001b[0m \u001b[0mcopy\u001b[0m\u001b[1;33m=\u001b[0m\u001b[1;32mFalse\u001b[0m\u001b[1;33m,\u001b[0m \u001b[0morder\u001b[0m\u001b[1;33m=\u001b[0m\u001b[0morder\u001b[0m\u001b[1;33m,\u001b[0m \u001b[0msubok\u001b[0m\u001b[1;33m=\u001b[0m\u001b[1;32mTrue\u001b[0m\u001b[1;33m)\u001b[0m\u001b[1;33m\u001b[0m\u001b[1;33m\u001b[0m\u001b[0m\n\u001b[0m\u001b[0;32m    592\u001b[0m \u001b[1;33m\u001b[0m\u001b[0m\n\u001b[0;32m    593\u001b[0m \u001b[1;33m\u001b[0m\u001b[0m\n",
      "\u001b[1;32mC:\\Users\\0468~1\\AppData\\Local\\conda\\conda\\envs\\simnibs_env\\lib\\site-packages\\nibabel\\arrayproxy.py\u001b[0m in \u001b[0;36m__array__\u001b[1;34m(self)\u001b[0m\n\u001b[0;32m    355\u001b[0m         \u001b[1;31m# Read array and scale\u001b[0m\u001b[1;33m\u001b[0m\u001b[1;33m\u001b[0m\u001b[1;33m\u001b[0m\u001b[0m\n\u001b[0;32m    356\u001b[0m         \u001b[0mraw_data\u001b[0m \u001b[1;33m=\u001b[0m \u001b[0mself\u001b[0m\u001b[1;33m.\u001b[0m\u001b[0mget_unscaled\u001b[0m\u001b[1;33m(\u001b[0m\u001b[1;33m)\u001b[0m\u001b[1;33m\u001b[0m\u001b[1;33m\u001b[0m\u001b[0m\n\u001b[1;32m--> 357\u001b[1;33m         \u001b[1;32mreturn\u001b[0m \u001b[0mapply_read_scaling\u001b[0m\u001b[1;33m(\u001b[0m\u001b[0mraw_data\u001b[0m\u001b[1;33m,\u001b[0m \u001b[0mself\u001b[0m\u001b[1;33m.\u001b[0m\u001b[0m_slope\u001b[0m\u001b[1;33m,\u001b[0m \u001b[0mself\u001b[0m\u001b[1;33m.\u001b[0m\u001b[0m_inter\u001b[0m\u001b[1;33m)\u001b[0m\u001b[1;33m\u001b[0m\u001b[1;33m\u001b[0m\u001b[0m\n\u001b[0m\u001b[0;32m    358\u001b[0m \u001b[1;33m\u001b[0m\u001b[0m\n\u001b[0;32m    359\u001b[0m     \u001b[1;32mdef\u001b[0m \u001b[0m__getitem__\u001b[0m\u001b[1;33m(\u001b[0m\u001b[0mself\u001b[0m\u001b[1;33m,\u001b[0m \u001b[0mslicer\u001b[0m\u001b[1;33m)\u001b[0m\u001b[1;33m:\u001b[0m\u001b[1;33m\u001b[0m\u001b[1;33m\u001b[0m\u001b[0m\n",
      "\u001b[1;32mC:\\Users\\0468~1\\AppData\\Local\\conda\\conda\\envs\\simnibs_env\\lib\\site-packages\\nibabel\\volumeutils.py\u001b[0m in \u001b[0;36mapply_read_scaling\u001b[1;34m(arr, slope, inter)\u001b[0m\n\u001b[0;32m    963\u001b[0m         \u001b[0minter\u001b[0m \u001b[1;33m=\u001b[0m \u001b[0minter\u001b[0m\u001b[1;33m.\u001b[0m\u001b[0mastype\u001b[0m\u001b[1;33m(\u001b[0m\u001b[0mftype\u001b[0m\u001b[1;33m)\u001b[0m\u001b[1;33m\u001b[0m\u001b[1;33m\u001b[0m\u001b[0m\n\u001b[0;32m    964\u001b[0m     \u001b[1;32mif\u001b[0m \u001b[0mslope\u001b[0m \u001b[1;33m!=\u001b[0m \u001b[1;36m1.0\u001b[0m\u001b[1;33m:\u001b[0m\u001b[1;33m\u001b[0m\u001b[1;33m\u001b[0m\u001b[0m\n\u001b[1;32m--> 965\u001b[1;33m         \u001b[0marr\u001b[0m \u001b[1;33m=\u001b[0m \u001b[0marr\u001b[0m \u001b[1;33m*\u001b[0m \u001b[0mslope\u001b[0m\u001b[1;33m\u001b[0m\u001b[1;33m\u001b[0m\u001b[0m\n\u001b[0m\u001b[0;32m    966\u001b[0m     \u001b[1;32mif\u001b[0m \u001b[0minter\u001b[0m \u001b[1;33m!=\u001b[0m \u001b[1;36m0.0\u001b[0m\u001b[1;33m:\u001b[0m\u001b[1;33m\u001b[0m\u001b[1;33m\u001b[0m\u001b[0m\n\u001b[0;32m    967\u001b[0m         \u001b[0marr\u001b[0m \u001b[1;33m=\u001b[0m \u001b[0marr\u001b[0m \u001b[1;33m+\u001b[0m \u001b[0minter\u001b[0m\u001b[1;33m\u001b[0m\u001b[1;33m\u001b[0m\u001b[0m\n",
      "\u001b[1;32mC:\\Users\\0468~1\\AppData\\Local\\conda\\conda\\envs\\simnibs_env\\lib\\site-packages\\numpy\\core\\memmap.py\u001b[0m in \u001b[0;36m__array_wrap__\u001b[1;34m(self, arr, context)\u001b[0m\n\u001b[0;32m    313\u001b[0m             \u001b[0mself\u001b[0m\u001b[1;33m.\u001b[0m\u001b[0mbase\u001b[0m\u001b[1;33m.\u001b[0m\u001b[0mflush\u001b[0m\u001b[1;33m(\u001b[0m\u001b[1;33m)\u001b[0m\u001b[1;33m\u001b[0m\u001b[1;33m\u001b[0m\u001b[0m\n\u001b[0;32m    314\u001b[0m \u001b[1;33m\u001b[0m\u001b[0m\n\u001b[1;32m--> 315\u001b[1;33m     \u001b[1;32mdef\u001b[0m \u001b[0m__array_wrap__\u001b[0m\u001b[1;33m(\u001b[0m\u001b[0mself\u001b[0m\u001b[1;33m,\u001b[0m \u001b[0marr\u001b[0m\u001b[1;33m,\u001b[0m \u001b[0mcontext\u001b[0m\u001b[1;33m=\u001b[0m\u001b[1;32mNone\u001b[0m\u001b[1;33m)\u001b[0m\u001b[1;33m:\u001b[0m\u001b[1;33m\u001b[0m\u001b[1;33m\u001b[0m\u001b[0m\n\u001b[0m\u001b[0;32m    316\u001b[0m         \u001b[0marr\u001b[0m \u001b[1;33m=\u001b[0m \u001b[0msuper\u001b[0m\u001b[1;33m(\u001b[0m\u001b[0mmemmap\u001b[0m\u001b[1;33m,\u001b[0m \u001b[0mself\u001b[0m\u001b[1;33m)\u001b[0m\u001b[1;33m.\u001b[0m\u001b[0m__array_wrap__\u001b[0m\u001b[1;33m(\u001b[0m\u001b[0marr\u001b[0m\u001b[1;33m,\u001b[0m \u001b[0mcontext\u001b[0m\u001b[1;33m)\u001b[0m\u001b[1;33m\u001b[0m\u001b[1;33m\u001b[0m\u001b[0m\n\u001b[0;32m    317\u001b[0m \u001b[1;33m\u001b[0m\u001b[0m\n",
      "\u001b[1;31mKeyboardInterrupt\u001b[0m: "
     ]
    }
   ],
   "source": [
    "headmodel(['C:/Users/МосинРоманВасильевич/Documents/SimNIBS/simnibs_examples/ernie','all', 'ernie_JN2', 'C:/Users/МосинРоманВасильевич/Documents/SimNIBS/simnibs_examples/ernie/org/ernie_T1.nii.gz'])"
   ]
  },
  {
   "cell_type": "code",
   "execution_count": 4,
   "metadata": {},
   "outputs": [
    {
     "name": "stderr",
     "output_type": "stream",
     "text": [
      "========================================================================\n",
      "========================================================================\n",
      "PREPARING VOLUMES FOR MESHING\n",
      "PREPARING VOLUMES FOR MESHING\n",
      "========================================================================\n",
      "========================================================================\n",
      "Copying input files to m2m_ernie_JN3\n",
      "Copying input files to m2m_ernie_JN3\n"
     ]
    },
    {
     "name": "stdout",
     "output_type": "stream",
     "text": [
      "\n",
      "\n",
      "\n"
     ]
    },
    {
     "name": "stderr",
     "output_type": "stream",
     "text": [
      "Copying T1fs.nii.gz to T1fs_conform.nii.gz\n",
      "Copying T1fs.nii.gz to T1fs_conform.nii.gz\n",
      "Preparing to segment\n",
      "Preparing to segment\n",
      "Starting MATLAB\n",
      "Starting MATLAB\n",
      "========================================================================\n",
      "========================================================================\n"
     ]
    },
    {
     "name": "stdout",
     "output_type": "stream",
     "text": [
      "\n"
     ]
    },
    {
     "name": "stderr",
     "output_type": "stream",
     "text": [
      "Binarizing tissue probability maps\n",
      "Binarizing tissue probability maps\n",
      "Creating unity.xfm and ref_FS.nii.gz\n",
      "Creating unity.xfm and ref_FS.nii.gz\n",
      "Moving forward deformation field\n",
      "Moving forward deformation field\n",
      "Moving affine MNI to subject space transformations\n",
      "Moving affine MNI to subject space transformations\n",
      "Copying T1 image\n",
      "Copying T1 image\n",
      "Copying bias corrected T1 image\n",
      "Copying bias corrected T1 image\n",
      "Moving and compressing warped priors and templates\n",
      "Moving and compressing warped priors and templates\n",
      "========================================================================\n",
      "========================================================================\n"
     ]
    },
    {
     "name": "stdout",
     "output_type": "stream",
     "text": [
      "\n"
     ]
    },
    {
     "name": "stderr",
     "output_type": "stream",
     "text": [
      "Preparation time:                                               00:07:03\n",
      "Preparation time:                                               00:07:03\n",
      "========================================================================\n",
      "========================================================================\n",
      "CLEANING SEGMENTATIONS\n",
      "CLEANING SEGMENTATIONS\n",
      "========================================================================\n",
      "========================================================================\n"
     ]
    },
    {
     "name": "stdout",
     "output_type": "stream",
     "text": [
      "\n",
      "\n",
      "\n"
     ]
    },
    {
     "name": "stderr",
     "output_type": "stream",
     "text": [
      "Cleaning bone\n",
      "Cleaning bone\n",
      "Cleaning skin\n",
      "Cleaning skin\n",
      "Cleaning CSF\n",
      "Cleaning CSF\n",
      "Cleaning WM\n",
      "Cleaning WM\n",
      "Labelling unassigned voxels\n",
      "Labelling unassigned voxels\n",
      "Constructing outer tissue surfaces\n",
      "Constructing outer tissue surfaces\n",
      "White matter\n",
      "White matter\n",
      "Gray matter\n",
      "Gray matter\n",
      "CSF and eyes\n",
      "CSF and eyes\n",
      "Ventricles\n",
      "Ventricles\n",
      "Bone\n",
      "Bone\n",
      "Skin\n",
      "Skin\n",
      "Air\n",
      "Air\n",
      "Ensuring tissue masks are properly contained within each other\n",
      "Ensuring tissue masks are properly contained within each other\n",
      "# voxels removed from bone :     300\n",
      "# voxels removed from bone :     300\n",
      "# voxels removed from csf  :     444\n",
      "# voxels removed from csf  :     444\n",
      "# voxels removed from gm   :    3616\n",
      "# voxels removed from gm   :    3616\n",
      "# voxels removed from wm   :    4777\n",
      "# voxels removed from wm   :    4777\n",
      "Saving individual tissue masks\n",
      "Saving individual tissue masks\n",
      "Saving combined tissue mask\n",
      "Saving combined tissue mask\n",
      "========================================================================\n",
      "========================================================================\n",
      "Cleaning time:                                                  00:00:45\n",
      "Cleaning time:                                                  00:00:45\n",
      "========================================================================\n",
      "========================================================================\n",
      "GENERATING SURFACE MESHES\n",
      "GENERATING SURFACE MESHES\n",
      "========================================================================\n",
      "========================================================================\n",
      "Processing WM\n",
      "Processing WM\n",
      "========================================================================\n",
      "========================================================================\n",
      "Extracting surface\n",
      "Extracting surface\n"
     ]
    },
    {
     "name": "stdout",
     "output_type": "stream",
     "text": [
      "\n",
      "\n",
      "\n"
     ]
    },
    {
     "ename": "IndexError",
     "evalue": "list index out of range",
     "output_type": "error",
     "traceback": [
      "\u001b[1;31m---------------------------------------------------------------------------\u001b[0m",
      "\u001b[1;31mIndexError\u001b[0m                                Traceback (most recent call last)",
      "\u001b[1;32m<ipython-input-4-11984b3f4e0b>\u001b[0m in \u001b[0;36m<module>\u001b[1;34m\u001b[0m\n\u001b[1;32m----> 1\u001b[1;33m \u001b[0mheadmodel\u001b[0m\u001b[1;33m(\u001b[0m\u001b[1;33m[\u001b[0m\u001b[1;34m''\u001b[0m\u001b[1;33m,\u001b[0m\u001b[1;34m'all'\u001b[0m\u001b[1;33m,\u001b[0m \u001b[1;34m'--no-cat'\u001b[0m\u001b[1;33m,\u001b[0m \u001b[1;34m'ernie_JN3'\u001b[0m\u001b[1;33m,\u001b[0m \u001b[1;34m'C:/Users/МосинРоманВасильевич/Documents/SimNIBS/simnibs_examples/ernie/org/ernie_T1.nii.gz'\u001b[0m\u001b[1;33m]\u001b[0m\u001b[1;33m)\u001b[0m\u001b[1;33m\u001b[0m\u001b[1;33m\u001b[0m\u001b[0m\n\u001b[0m",
      "\u001b[1;32mC:\\Users\\0468~1\\AppData\\Local\\conda\\conda\\envs\\simnibs_env\\lib\\site-packages\\simnibs\\msh\\headreco.py\u001b[0m in \u001b[0;36mheadmodel\u001b[1;34m(argv)\u001b[0m\n\u001b[0;32m    609\u001b[0m \u001b[1;33m\u001b[0m\u001b[0m\n\u001b[0;32m    610\u001b[0m         surfaces, relabel = make_surface_meshes(masks,\n\u001b[1;32m--> 611\u001b[1;33m             subject_dir, tmp, args.vertex_density, docat)\n\u001b[0m\u001b[0;32m    612\u001b[0m \u001b[1;33m\u001b[0m\u001b[0m\n\u001b[0;32m    613\u001b[0m         \u001b[0mhmu\u001b[0m\u001b[1;33m.\u001b[0m\u001b[0mlog\u001b[0m\u001b[1;33m(\u001b[0m\u001b[1;34m\"=\"\u001b[0m\u001b[1;33m*\u001b[0m\u001b[0mwidth\u001b[0m\u001b[1;33m)\u001b[0m\u001b[1;33m\u001b[0m\u001b[1;33m\u001b[0m\u001b[0m\n",
      "\u001b[1;32mC:\\Users\\0468~1\\AppData\\Local\\conda\\conda\\envs\\simnibs_env\\lib\\site-packages\\simnibs\\msh\\headreco.py\u001b[0m in \u001b[0;36mmake_surface_meshes\u001b[1;34m(input_files, out_dir, temp_dir, vertex_density, catsurf)\u001b[0m\n\u001b[0;32m   1331\u001b[0m         \u001b[0mhmu\u001b[0m\u001b[1;33m.\u001b[0m\u001b[0mlog\u001b[0m\u001b[1;33m(\u001b[0m\u001b[1;34m\"Extracting surface\"\u001b[0m\u001b[1;33m)\u001b[0m\u001b[1;33m\u001b[0m\u001b[1;33m\u001b[0m\u001b[0m\n\u001b[0;32m   1332\u001b[0m         off[key] = hmu.make_surface_mesh(mask[key].get_filename(), off[key],\n\u001b[1;32m-> 1333\u001b[1;33m                                           1, 1, vertex_density, 5)[0]\n\u001b[0m\u001b[0;32m   1334\u001b[0m         \u001b[0mhmu\u001b[0m\u001b[1;33m.\u001b[0m\u001b[0mlog\u001b[0m\u001b[1;33m(\u001b[0m\u001b[1;34m\"Voxelizing\"\u001b[0m\u001b[1;33m)\u001b[0m\u001b[1;33m\u001b[0m\u001b[1;33m\u001b[0m\u001b[0m\n\u001b[0;32m   1335\u001b[0m         \u001b[0mcWM\u001b[0m \u001b[1;33m=\u001b[0m \u001b[0mhmu\u001b[0m\u001b[1;33m.\u001b[0m\u001b[0mmake_volume_mask\u001b[0m\u001b[1;33m(\u001b[0m\u001b[0moff\u001b[0m\u001b[1;33m[\u001b[0m\u001b[0mkey\u001b[0m\u001b[1;33m]\u001b[0m\u001b[1;33m,\u001b[0m \u001b[0mnii\u001b[0m\u001b[1;33m[\u001b[0m\u001b[0mkey\u001b[0m\u001b[1;33m]\u001b[0m\u001b[1;33m,\u001b[0m \u001b[0mref\u001b[0m\u001b[1;33m)\u001b[0m\u001b[1;33m\u001b[0m\u001b[1;33m\u001b[0m\u001b[0m\n",
      "\u001b[1;31mIndexError\u001b[0m: list index out of range"
     ]
    }
   ],
   "source": [
    "headmodel(['','all', '--no-cat', 'ernie_JN3', 'C:/Users/МосинРоманВасильевич/Documents/SimNIBS/simnibs_examples/ernie/org/ernie_T1.nii.gz'])"
   ]
  },
  {
   "cell_type": "code",
   "execution_count": 1,
   "metadata": {},
   "outputs": [],
   "source": []
  },
  {
   "cell_type": "code",
   "execution_count": 13,
   "metadata": {},
   "outputs": [
    {
     "ename": "FileNotFoundError",
     "evalue": "No such file or no access: 'C:\\Users\\МосинРоманВасильевич\\Documents\\SimNIBS\\Python\\m2m_ernie_JN3\\ernie_JN3_final_contr.nii.gz'",
     "output_type": "error",
     "traceback": [
      "\u001b[1;31m---------------------------------------------------------------------------\u001b[0m",
      "\u001b[1;31mFileNotFoundError\u001b[0m                         Traceback (most recent call last)",
      "\u001b[1;32mC:\\Users\\0468~1\\AppData\\Local\\conda\\conda\\envs\\simnibs_env\\lib\\site-packages\\nibabel\\loadsave.py\u001b[0m in \u001b[0;36mload\u001b[1;34m(filename, **kwargs)\u001b[0m\n\u001b[0;32m     39\u001b[0m     \u001b[1;32mtry\u001b[0m\u001b[1;33m:\u001b[0m\u001b[1;33m\u001b[0m\u001b[1;33m\u001b[0m\u001b[0m\n\u001b[1;32m---> 40\u001b[1;33m         \u001b[0mstat_result\u001b[0m \u001b[1;33m=\u001b[0m \u001b[0mos\u001b[0m\u001b[1;33m.\u001b[0m\u001b[0mstat\u001b[0m\u001b[1;33m(\u001b[0m\u001b[0mfilename\u001b[0m\u001b[1;33m)\u001b[0m\u001b[1;33m\u001b[0m\u001b[1;33m\u001b[0m\u001b[0m\n\u001b[0m\u001b[0;32m     41\u001b[0m     \u001b[1;32mexcept\u001b[0m \u001b[0mOSError\u001b[0m\u001b[1;33m:\u001b[0m\u001b[1;33m\u001b[0m\u001b[1;33m\u001b[0m\u001b[0m\n",
      "\u001b[1;31mFileNotFoundError\u001b[0m: [WinError 2] Не удается найти указанный файл: 'C:\\\\Users\\\\МосинРоманВасильевич\\\\Documents\\\\SimNIBS\\\\Python\\\\m2m_ernie_JN3\\\\ernie_JN3_final_contr.nii.gz'",
      "\nDuring handling of the above exception, another exception occurred:\n",
      "\u001b[1;31mFileNotFoundError\u001b[0m                         Traceback (most recent call last)",
      "\u001b[1;32m<ipython-input-13-312c6e7c017b>\u001b[0m in \u001b[0;36m<module>\u001b[1;34m\u001b[0m\n\u001b[1;32m----> 1\u001b[1;33m \u001b[0mheadmodel\u001b[0m\u001b[1;33m(\u001b[0m\u001b[1;33m[\u001b[0m\u001b[1;34m'../ernie/'\u001b[0m\u001b[1;33m,\u001b[0m\u001b[1;34m'check'\u001b[0m\u001b[1;33m,\u001b[0m \u001b[1;34m'ernie_JN3'\u001b[0m\u001b[1;33m]\u001b[0m\u001b[1;33m)\u001b[0m\u001b[1;33m\u001b[0m\u001b[1;33m\u001b[0m\u001b[0m\n\u001b[0m",
      "\u001b[1;32mC:\\Users\\0468~1\\AppData\\Local\\conda\\conda\\envs\\simnibs_env\\lib\\site-packages\\simnibs\\msh\\headreco.py\u001b[0m in \u001b[0;36mheadmodel\u001b[1;34m(argv)\u001b[0m\n\u001b[0;32m    803\u001b[0m                        subject_dir, args.force_remake, show_mni=True)\n\u001b[0;32m    804\u001b[0m         \u001b[1;32melse\u001b[0m\u001b[1;33m:\u001b[0m\u001b[1;33m\u001b[0m\u001b[1;33m\u001b[0m\u001b[0m\n\u001b[1;32m--> 805\u001b[1;33m              \u001b[0mvisualize_spm\u001b[0m\u001b[1;33m(\u001b[0m\u001b[0margs\u001b[0m\u001b[1;33m.\u001b[0m\u001b[0msubject_id\u001b[0m\u001b[1;33m,\u001b[0m\u001b[0mT1\u001b[0m\u001b[1;33m,\u001b[0m\u001b[0mmask_final\u001b[0m\u001b[1;33m,\u001b[0m\u001b[0msubject_dir\u001b[0m\u001b[1;33m,\u001b[0m\u001b[0mshow_mni\u001b[0m\u001b[1;33m=\u001b[0m\u001b[1;32mTrue\u001b[0m\u001b[1;33m)\u001b[0m\u001b[1;33m\u001b[0m\u001b[1;33m\u001b[0m\u001b[0m\n\u001b[0m\u001b[0;32m    806\u001b[0m              \u001b[0margs\u001b[0m\u001b[1;33m.\u001b[0m\u001b[0mnoclean\u001b[0m \u001b[1;33m=\u001b[0m \u001b[1;32mTrue\u001b[0m\u001b[1;33m\u001b[0m\u001b[1;33m\u001b[0m\u001b[0m\n\u001b[0;32m    807\u001b[0m \u001b[1;33m\u001b[0m\u001b[0m\n",
      "\u001b[1;32mC:\\Users\\0468~1\\AppData\\Local\\conda\\conda\\envs\\simnibs_env\\lib\\site-packages\\simnibs\\msh\\headreco.py\u001b[0m in \u001b[0;36mvisualize_spm\u001b[1;34m(subject_id, T1, control_mask_final, subject_dir, show_mni)\u001b[0m\n\u001b[0;32m   2048\u001b[0m     \u001b[0mmaskspm_name\u001b[0m\u001b[1;33m=\u001b[0m\u001b[0mos\u001b[0m\u001b[1;33m.\u001b[0m\u001b[0mpath\u001b[0m\u001b[1;33m.\u001b[0m\u001b[0mjoin\u001b[0m\u001b[1;33m(\u001b[0m\u001b[0msubject_dir\u001b[0m\u001b[1;33m,\u001b[0m\u001b[1;34m\"tmp\"\u001b[0m\u001b[1;33m,\u001b[0m\u001b[1;34m\"final_contr_spm.nii\"\u001b[0m\u001b[1;33m)\u001b[0m\u001b[1;33m\u001b[0m\u001b[1;33m\u001b[0m\u001b[0m\n\u001b[0;32m   2049\u001b[0m     \u001b[0mnib\u001b[0m\u001b[1;33m.\u001b[0m\u001b[0msave\u001b[0m\u001b[1;33m(\u001b[0m\u001b[0mT1\u001b[0m\u001b[1;33m,\u001b[0m \u001b[0mT1spm_name\u001b[0m\u001b[1;33m)\u001b[0m\u001b[1;33m\u001b[0m\u001b[1;33m\u001b[0m\u001b[0m\n\u001b[1;32m-> 2050\u001b[1;33m     \u001b[0mnib\u001b[0m\u001b[1;33m.\u001b[0m\u001b[0msave\u001b[0m\u001b[1;33m(\u001b[0m\u001b[0mnib\u001b[0m\u001b[1;33m.\u001b[0m\u001b[0mload\u001b[0m\u001b[1;33m(\u001b[0m\u001b[0mcontrol_mask_final\u001b[0m\u001b[1;33m)\u001b[0m\u001b[1;33m,\u001b[0m \u001b[0mmaskspm_name\u001b[0m\u001b[1;33m)\u001b[0m\u001b[1;33m\u001b[0m\u001b[1;33m\u001b[0m\u001b[0m\n\u001b[0m\u001b[0;32m   2051\u001b[0m \u001b[1;33m\u001b[0m\u001b[0m\n\u001b[0;32m   2052\u001b[0m     \u001b[0mcmd\u001b[0m \u001b[1;33m=\u001b[0m \u001b[1;34m\"matlab -nosplash -nodesktop -r \"\u001b[0m\u001b[1;33m\u001b[0m\u001b[1;33m\u001b[0m\u001b[0m\n",
      "\u001b[1;32mC:\\Users\\0468~1\\AppData\\Local\\conda\\conda\\envs\\simnibs_env\\lib\\site-packages\\nibabel\\loadsave.py\u001b[0m in \u001b[0;36mload\u001b[1;34m(filename, **kwargs)\u001b[0m\n\u001b[0;32m     40\u001b[0m         \u001b[0mstat_result\u001b[0m \u001b[1;33m=\u001b[0m \u001b[0mos\u001b[0m\u001b[1;33m.\u001b[0m\u001b[0mstat\u001b[0m\u001b[1;33m(\u001b[0m\u001b[0mfilename\u001b[0m\u001b[1;33m)\u001b[0m\u001b[1;33m\u001b[0m\u001b[1;33m\u001b[0m\u001b[0m\n\u001b[0;32m     41\u001b[0m     \u001b[1;32mexcept\u001b[0m \u001b[0mOSError\u001b[0m\u001b[1;33m:\u001b[0m\u001b[1;33m\u001b[0m\u001b[1;33m\u001b[0m\u001b[0m\n\u001b[1;32m---> 42\u001b[1;33m         \u001b[1;32mraise\u001b[0m \u001b[0mFileNotFoundError\u001b[0m\u001b[1;33m(\u001b[0m\u001b[1;34m\"No such file or no access: '%s'\"\u001b[0m \u001b[1;33m%\u001b[0m \u001b[0mfilename\u001b[0m\u001b[1;33m)\u001b[0m\u001b[1;33m\u001b[0m\u001b[1;33m\u001b[0m\u001b[0m\n\u001b[0m\u001b[0;32m     43\u001b[0m     \u001b[1;32mif\u001b[0m \u001b[0mstat_result\u001b[0m\u001b[1;33m.\u001b[0m\u001b[0mst_size\u001b[0m \u001b[1;33m<=\u001b[0m \u001b[1;36m0\u001b[0m\u001b[1;33m:\u001b[0m\u001b[1;33m\u001b[0m\u001b[1;33m\u001b[0m\u001b[0m\n\u001b[0;32m     44\u001b[0m         \u001b[1;32mraise\u001b[0m \u001b[0mImageFileError\u001b[0m\u001b[1;33m(\u001b[0m\u001b[1;34m\"Empty file: '%s'\"\u001b[0m \u001b[1;33m%\u001b[0m \u001b[0mfilename\u001b[0m\u001b[1;33m)\u001b[0m\u001b[1;33m\u001b[0m\u001b[1;33m\u001b[0m\u001b[0m\n",
      "\u001b[1;31mFileNotFoundError\u001b[0m: No such file or no access: 'C:\\Users\\МосинРоманВасильевич\\Documents\\SimNIBS\\Python\\m2m_ernie_JN3\\ernie_JN3_final_contr.nii.gz'"
     ]
    }
   ],
   "source": [
    "headmodel(['../ernie/','check', 'ernie_JN3'])"
   ]
  },
  {
   "cell_type": "code",
   "execution_count": null,
   "metadata": {
    "scrolled": true
   },
   "outputs": [],
   "source": []
  },
  {
   "cell_type": "code",
   "execution_count": null,
   "metadata": {},
   "outputs": [],
   "source": []
  },
  {
   "cell_type": "code",
   "execution_count": null,
   "metadata": {},
   "outputs": [],
   "source": []
  },
  {
   "cell_type": "code",
   "execution_count": 22,
   "metadata": {},
   "outputs": [],
   "source": [
    "Итого: \n",
    "    - Функция выполнения симуляции готова\n",
    "    - Построение мэша пока не работает. Вылетает ошибка c отчетом во время работы в matlab"
   ]
  }
 ],
 "metadata": {
  "kernelspec": {
   "display_name": "Python 3",
   "language": "python",
   "name": "python3"
  },
  "language_info": {
   "codemirror_mode": {
    "name": "ipython",
    "version": 3
   },
   "file_extension": ".py",
   "mimetype": "text/x-python",
   "name": "python",
   "nbconvert_exporter": "python",
   "pygments_lexer": "ipython3",
   "version": "3.7.5"
  }
 },
 "nbformat": 4,
 "nbformat_minor": 2
}
